{
  "nbformat": 4,
  "nbformat_minor": 0,
  "metadata": {
    "colab": {
      "provenance": [],
      "authorship_tag": "ABX9TyNVJEVVu6UaXuoVU9lnm4zs",
      "include_colab_link": true
    },
    "kernelspec": {
      "name": "python3",
      "display_name": "Python 3"
    },
    "language_info": {
      "name": "python"
    }
  },
  "cells": [
    {
      "cell_type": "markdown",
      "metadata": {
        "id": "view-in-github",
        "colab_type": "text"
      },
      "source": [
        "<a href=\"https://colab.research.google.com/github/KRubasri/Python-programming-laboratory-/blob/main/File_Handling.ipynb\" target=\"_parent\"><img src=\"https://colab.research.google.com/assets/colab-badge.svg\" alt=\"Open In Colab\"/></a>"
      ]
    },
    {
      "cell_type": "markdown",
      "source": [
        "#**File Handling**\n",
        "#Read File"
      ],
      "metadata": {
        "id": "zdE6_ueYy1Ho"
      }
    },
    {
      "cell_type": "code",
      "source": [
        "file_path = r\"/content/Hello World!.txt\"\n",
        "print(\"=== Hello World!: Read Entire File ===\")\n",
        "with open(file_path, \"r\") as file:\n",
        "    content = file.read()\n",
        "    print(content)"
      ],
      "metadata": {
        "colab": {
          "base_uri": "https://localhost:8080/"
        },
        "id": "b7UEwRAW492I",
        "outputId": "2cda86a6-abce-42e6-ceee-3f4d41e6a56c"
      },
      "execution_count": 11,
      "outputs": [
        {
          "output_type": "stream",
          "name": "stdout",
          "text": [
            "=== Hello World!: Read Entire File ===\n",
            "Hello World! \n",
            "I am currently learning Python.\n",
            "Learning python is fun.\n"
          ]
        }
      ]
    },
    {
      "cell_type": "markdown",
      "source": [
        "# Read line by line"
      ],
      "metadata": {
        "id": "8FMUKHhb6CF4"
      }
    },
    {
      "cell_type": "code",
      "source": [
        "file_path = r\"/content/Hello World!.txt\"\n",
        "print(\"=== Hello World!: Read Line by Line ===\")\n",
        "with open(file_path, \"r\") as file:\n",
        "    for line in file:\n",
        "        print(\"Line from file: \", line.strip())\n"
      ],
      "metadata": {
        "colab": {
          "base_uri": "https://localhost:8080/"
        },
        "id": "ql7mGMin6L5_",
        "outputId": "d799c33b-7482-4ed6-a47c-6b89187565c1"
      },
      "execution_count": 12,
      "outputs": [
        {
          "output_type": "stream",
          "name": "stdout",
          "text": [
            "=== Hello World!: Read Line by Line ===\n",
            "Line from file:  Hello World!\n",
            "Line from file:  I am currently learning Python.\n",
            "Line from file:  Learning python is fun.\n"
          ]
        }
      ]
    },
    {
      "cell_type": "markdown",
      "source": [
        "#"
      ],
      "metadata": {
        "id": "3HwfQuFZ7Llp"
      }
    },
    {
      "cell_type": "markdown",
      "source": [
        "# Read specific parts"
      ],
      "metadata": {
        "id": "LTeVoxls712H"
      }
    },
    {
      "cell_type": "code",
      "source": [
        "file_path = r\"/content/Hello World!.txt\"\n",
        "print(\"=== Hello World!: Read Specific Parts ===\")\n",
        "with open(file_path, \"r\") as file:\n",
        "  first_12_chars = file.read(12)\n",
        "  print(\"First 12 characters:\", first_12_chars)\n",
        "\n",
        "  file.seek(0)\n",
        "  first_line = file.readline() # Read the first line\n",
        "  second_line = file.readline() # Read the second line\n",
        "  print(\"Second line:\", second_line.strip())"
      ],
      "metadata": {
        "colab": {
          "base_uri": "https://localhost:8080/"
        },
        "id": "P8J01-Eu-upg",
        "outputId": "d23f9448-54cf-489a-8b98-49b9e7291ed0"
      },
      "execution_count": 30,
      "outputs": [
        {
          "output_type": "stream",
          "name": "stdout",
          "text": [
            "=== Hello World!: Read Specific Parts ===\n",
            "First 12 characters: Hello World!\n",
            "Second line: I am currently learning Python.\n"
          ]
        }
      ]
    },
    {
      "cell_type": "markdown",
      "source": [
        "# Line appended"
      ],
      "metadata": {
        "id": "hCM4Nw-K_k-4"
      }
    },
    {
      "cell_type": "code",
      "source": [
        "file_path = r\"/content/Hello World!.txt\"\n",
        "with open(file_path, \"a\") as file:\n",
        "  file.write(\"\\nPython makes file handling easy.\")\n",
        "print(\"New line appended successfully\")"
      ],
      "metadata": {
        "colab": {
          "base_uri": "https://localhost:8080/"
        },
        "id": "KNvfNNyZ_n1A",
        "outputId": "b59f9524-e512-4c3c-b596-3f7376db0424"
      },
      "execution_count": 32,
      "outputs": [
        {
          "output_type": "stream",
          "name": "stdout",
          "text": [
            "New line appended successfully\n"
          ]
        }
      ]
    },
    {
      "cell_type": "markdown",
      "source": [
        "# Adding multiple lines"
      ],
      "metadata": {
        "id": "hN5kMxm8Dgi_"
      }
    },
    {
      "cell_type": "code",
      "source": [
        "file_path = r\"/content/Hello World!.txt\"\n",
        "\n",
        "lines = [\n",
        "    \"line 1 = New line\\n\",\n",
        "    \"line 2 = New line written\\n\",\n",
        "    \"line 3 = New line written successfully\\n\"\n",
        "]\n",
        "\n",
        "with open(file_path, \"a\") as file:\n",
        "  file.writelines(lines)\n",
        "print(\"multiple lines appended successfully\")"
      ],
      "metadata": {
        "colab": {
          "base_uri": "https://localhost:8080/"
        },
        "id": "uHqQYaiyDj1X",
        "outputId": "407c6feb-fd86-47f6-854d-aad9811ed64c"
      },
      "execution_count": 33,
      "outputs": [
        {
          "output_type": "stream",
          "name": "stdout",
          "text": [
            "multiple lines appended successfully\n"
          ]
        }
      ]
    }
  ]
}