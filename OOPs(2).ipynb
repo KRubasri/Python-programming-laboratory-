{
  "nbformat": 4,
  "nbformat_minor": 0,
  "metadata": {
    "colab": {
      "provenance": [],
      "authorship_tag": "ABX9TyPx5jng0D1U7pdcA05w6osj",
      "include_colab_link": true
    },
    "kernelspec": {
      "name": "python3",
      "display_name": "Python 3"
    },
    "language_info": {
      "name": "python"
    }
  },
  "cells": [
    {
      "cell_type": "markdown",
      "metadata": {
        "id": "view-in-github",
        "colab_type": "text"
      },
      "source": [
        "<a href=\"https://colab.research.google.com/github/KRubasri/Python-programming-laboratory-/blob/main/OOPs(2).ipynb\" target=\"_parent\"><img src=\"https://colab.research.google.com/assets/colab-badge.svg\" alt=\"Open In Colab\"/></a>"
      ]
    },
    {
      "cell_type": "markdown",
      "source": [
        "#Data Abstraction"
      ],
      "metadata": {
        "id": "SP1wsZ3tzn4m"
      }
    },
    {
      "cell_type": "code",
      "execution_count": 2,
      "metadata": {
        "colab": {
          "base_uri": "https://localhost:8080/"
        },
        "id": "-a_MMoqzypyM",
        "outputId": "bed4bdf1-690d-4785-e4ec-3261d21b75f9"
      },
      "outputs": [
        {
          "output_type": "stream",
          "name": "stdout",
          "text": [
            "Coffee is ready!\n"
          ]
        }
      ],
      "source": [
        "class CoffeeMachine:\n",
        "  def __init__(self):\n",
        "    self.water = 100 #Amount of water available, internal data(hidden from user)\n",
        "\n",
        "  def make_coffee(self):\n",
        "    if self.water >= 0:\n",
        "      self.water -= 10 # use some water to make coffee, internal working(hidden)\n",
        "      print(\"Coffee is ready!\")\n",
        "    else:\n",
        "      print(\"Not enough water to make coffee\")\n",
        "\n",
        "# Create a coffee machine ogject\n",
        "machine = CoffeeMachine()\n",
        "\n",
        "# Make coffee by calling this simple method\n",
        "machine.make_coffee()"
      ]
    },
    {
      "cell_type": "markdown",
      "source": [
        "# Data Encapsulation"
      ],
      "metadata": {
        "id": "hj8yCbnH2sI8"
      }
    },
    {
      "cell_type": "code",
      "source": [
        "class BankAccount:\n",
        "  def __init__(self):\n",
        "    self.__balance = 0\n",
        "  def set_balance(self, amount):\n",
        "    self.__balance = amount\n",
        "  def get_balance(self):\n",
        "    return self.__balance\n",
        "  def withdraw(self, amount):\n",
        "    if self.__balance >= amount:\n",
        "      self.__balance -= amount\n",
        "      print(f\"Withdrawal of {amount} successful. Remaining balance: {self.__balance}\")\n",
        "\n",
        "\n",
        "account = BankAccount()\n",
        "account.set_balance(1000)\n",
        "print(\"Account balance =\", account.get_balance())\n",
        "\n",
        "account.withdraw(400)"
      ],
      "metadata": {
        "colab": {
          "base_uri": "https://localhost:8080/"
        },
        "id": "EAbxLF4W2YWO",
        "outputId": "d4a03b1e-d863-4922-af85-6db6ca6463fd"
      },
      "execution_count": 9,
      "outputs": [
        {
          "output_type": "stream",
          "name": "stdout",
          "text": [
            "Account balance = 1000\n",
            "Withdrawal of 400 successful. Remaining balance: 600\n"
          ]
        }
      ]
    },
    {
      "cell_type": "markdown",
      "source": [
        "# Data Inheritance\n",
        "# Grandparent-->Parent-->Child-->Grandchild\n",
        "\n",
        "\n",
        "\n"
      ],
      "metadata": {
        "id": "AOAETN5o6mqd"
      }
    },
    {
      "cell_type": "code",
      "source": [
        "class Animal:\n",
        "  def move(self):\n",
        "    print(\"Animal is moving\")\n",
        "\n",
        "class Dog(Animal):\n",
        "  def bark(self):\n",
        "    print(\"Dog is barking\")\n",
        "\n",
        "class Cat(Animal):\n",
        "  def meow(self):\n",
        "    print(\"Cat is meowing\")\n",
        "\n",
        "dog = Dog()\n",
        "dog.move()\n",
        "dog.bark()\n",
        "\n",
        "cat = Cat()\n",
        "cat.move()\n",
        "cat.meow()"
      ],
      "metadata": {
        "colab": {
          "base_uri": "https://localhost:8080/"
        },
        "id": "MfcofHIh6qn8",
        "outputId": "18662cb0-292a-44ba-d2d2-b3cfc9e5f6fa"
      },
      "execution_count": 13,
      "outputs": [
        {
          "output_type": "stream",
          "name": "stdout",
          "text": [
            "Animal is moving\n",
            "Dog is barking\n",
            "Animal is moving\n",
            "Cat is meowing\n"
          ]
        }
      ]
    },
    {
      "cell_type": "markdown",
      "source": [
        "# Single level Inheritance"
      ],
      "metadata": {
        "id": "3MeB2TVj9-pt"
      }
    },
    {
      "cell_type": "code",
      "source": [
        "class Animal:\n",
        "    def move(self):\n",
        "        print(\"Animal is moving\")\n",
        "\n",
        "class Dog(Animal):\n",
        "    def bark(self):\n",
        "        print(\"Dog is barking\")\n",
        "\n",
        "\n",
        "dog = Dog()\n",
        "dog.move()\n",
        "dog.bark()"
      ],
      "metadata": {
        "colab": {
          "base_uri": "https://localhost:8080/"
        },
        "id": "birK521K-DVE",
        "outputId": "e586b2d0-3bdb-4724-9c42-8a9d8de04047"
      },
      "execution_count": 15,
      "outputs": [
        {
          "output_type": "stream",
          "name": "stdout",
          "text": [
            "Animal is moving\n",
            "Dog is barking\n"
          ]
        }
      ]
    },
    {
      "cell_type": "markdown",
      "source": [
        "# Polymorplism"
      ],
      "metadata": {
        "id": "h9cuIAdC_Lrz"
      }
    },
    {
      "cell_type": "code",
      "source": [
        "class Cat:\n",
        "  def sound(self):\n",
        "    print(\"Meowing\")\n",
        "\n",
        "class Dog:\n",
        "  def sound(self):\n",
        "    print(\"Barking\")\n",
        "\n",
        "for animal in (Cat(), Dog()):\n",
        "  animal.sound()"
      ],
      "metadata": {
        "colab": {
          "base_uri": "https://localhost:8080/"
        },
        "id": "0WvLETaa_O0j",
        "outputId": "236588b7-8fb0-406a-e5b3-bfbde2ec9a7f"
      },
      "execution_count": 17,
      "outputs": [
        {
          "output_type": "stream",
          "name": "stdout",
          "text": [
            "Meowing\n",
            "Barking\n"
          ]
        }
      ]
    }
  ]
}