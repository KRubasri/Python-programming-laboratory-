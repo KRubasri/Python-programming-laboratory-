{
  "nbformat": 4,
  "nbformat_minor": 0,
  "metadata": {
    "colab": {
      "provenance": [],
      "authorship_tag": "ABX9TyP5+YaZvnfJ4fOZMYqH4waz",
      "include_colab_link": true
    },
    "kernelspec": {
      "name": "python3",
      "display_name": "Python 3"
    },
    "language_info": {
      "name": "python"
    }
  },
  "cells": [
    {
      "cell_type": "markdown",
      "metadata": {
        "id": "view-in-github",
        "colab_type": "text"
      },
      "source": [
        "<a href=\"https://colab.research.google.com/github/KRubasri/Python-programming-laboratory-/blob/main/Grocery_Store.ipynb\" target=\"_parent\"><img src=\"https://colab.research.google.com/assets/colab-badge.svg\" alt=\"Open In Colab\"/></a>"
      ]
    },
    {
      "cell_type": "markdown",
      "source": [
        "#**GROCERY STORE CHECKOUT SYSTEM**"
      ],
      "metadata": {
        "id": "RvaRnN6RyLQY"
      }
    },
    {
      "cell_type": "code",
      "execution_count": null,
      "metadata": {
        "id": "TbPWwvCFyCjd"
      },
      "outputs": [],
      "source": [
        "while True:\n",
        "  print(\"\\n===Grocery Store Menu===\")\n",
        "  print(\"1.Show products\")\n",
        "  print(\"2.Add to cart\")\n",
        "  print(\"3.Remove from cart\")\n",
        "  print(\"4.View cart\")\n",
        "  print(\"5.Checkout and exit\")\n",
        "\n",
        "  choice=input(\"Enter the choice: \")\n",
        "  if choice==\"1\":\n",
        "    show_products()\n",
        "  elif choice==\"2\":\n",
        "    add_to_cart()\n",
        "  elif choice==\"3\":\n",
        "    remove_from_cart()\n",
        "  elif choice==\"4\":\n",
        "    show_cart()\n",
        "  elif choice==\"5\":\n",
        "     checkout()\n",
        "     print(\"Thankyou for shopping!\")\n",
        "     break\n",
        "  else:\n",
        "     print(\"Invalid choice.\")"
      ]
    },
    {
      "cell_type": "code",
      "source": [
        "# step 1: Available products and prices\n",
        "# Define a new list products for listing the grocery item\n",
        "products=[\"Vegetables\", \"Fruits\", \"Bread\", \"Milk\", \"Chocolates\"]\n",
        "cost=[100.5, 90.50, 40.0, 30.0, 20.0]\n",
        "\n",
        "# Define empty cart\n",
        "cart=[]\n",
        "\n",
        "# Display menu\n",
        "def show_products():\n",
        "  print(\"\\n===Available Products===\")\n",
        "  for i, item in enumerate(products):\n",
        "    print(f\"{i+1}. {item} - Rs.{cost[i]}\")\n",
        "show_products()"
      ],
      "metadata": {
        "colab": {
          "base_uri": "https://localhost:8080/"
        },
        "id": "5N59tBXOyU21",
        "outputId": "e227afa8-2f48-4c96-efc4-0ef8143a7f84"
      },
      "execution_count": 8,
      "outputs": [
        {
          "output_type": "stream",
          "name": "stdout",
          "text": [
            "\n",
            "===Available Products===\n",
            "1. Vegetables - Rs.100.5\n",
            "2. Fruits - Rs.90.5\n",
            "3. Bread - Rs.40.0\n",
            "4. Milk - Rs.30.0\n",
            "5. Chocolates - Rs.20.0\n"
          ]
        }
      ]
    },
    {
      "cell_type": "code",
      "source": [
        "# Add item to cart\n",
        "def add_to_cart():\n",
        "  show_products()\n",
        "  choice=int(input(\"Enter the product number to add to cart: \"))\n",
        "  if 0<=choice<len(products):\n",
        "    cart.append(choice)\n",
        "    print(f\"{products[choice-1]} added to cart.\")\n",
        "  else:\n",
        "    print(\"Invalid choice.\")\n",
        "add_to_cart()"
      ],
      "metadata": {
        "colab": {
          "base_uri": "https://localhost:8080/"
        },
        "id": "sM6_QBd_0l_4",
        "outputId": "607375cf-2644-4d5a-f1a3-befae756509f"
      },
      "execution_count": 10,
      "outputs": [
        {
          "output_type": "stream",
          "name": "stdout",
          "text": [
            "\n",
            "===Available Products===\n",
            "1. Vegetables - Rs.100.5\n",
            "2. Fruits - Rs.90.5\n",
            "3. Bread - Rs.40.0\n",
            "4. Milk - Rs.30.0\n",
            "5. Chocolates - Rs.20.0\n",
            "Enter the product number to add to cart: 1\n",
            "Vegetables added to cart.\n"
          ]
        }
      ]
    },
    {
      "cell_type": "code",
      "source": [
        "def remove_from_cart():\n",
        "  if not cart:\n",
        "    print(\"Cart is empty.\")\n",
        "    return\n",
        "  show_cart()\n",
        "  choice=int(input(\"Enter the product number to remove from cart: \"))\n",
        "  if 0<=choice<len(cart):\n",
        "    removed_item=cart.pop(choice)\n",
        "    print(f\"{products[removed_item]} removed from cart.\")\n",
        "  else:\n",
        "    print(\"Invalid choice.\")\n",
        "remove_from_cart()"
      ],
      "metadata": {
        "colab": {
          "base_uri": "https://localhost:8080/",
          "height": 297
        },
        "id": "l3KyPI6X1-X4",
        "outputId": "5bb3e363-4338-4f5f-ff59-7d27b8a940a6"
      },
      "execution_count": 19,
      "outputs": [
        {
          "output_type": "error",
          "ename": "NameError",
          "evalue": "name 'show_cart' is not defined",
          "traceback": [
            "\u001b[0;31m---------------------------------------------------------------------------\u001b[0m",
            "\u001b[0;31mNameError\u001b[0m                                 Traceback (most recent call last)",
            "\u001b[0;32m/tmp/ipython-input-3768410320.py\u001b[0m in \u001b[0;36m<cell line: 0>\u001b[0;34m()\u001b[0m\n\u001b[1;32m     10\u001b[0m   \u001b[0;32melse\u001b[0m\u001b[0;34m:\u001b[0m\u001b[0;34m\u001b[0m\u001b[0;34m\u001b[0m\u001b[0m\n\u001b[1;32m     11\u001b[0m     \u001b[0mprint\u001b[0m\u001b[0;34m(\u001b[0m\u001b[0;34m\"Invalid choice.\"\u001b[0m\u001b[0;34m)\u001b[0m\u001b[0;34m\u001b[0m\u001b[0;34m\u001b[0m\u001b[0m\n\u001b[0;32m---> 12\u001b[0;31m \u001b[0mremove_from_cart\u001b[0m\u001b[0;34m(\u001b[0m\u001b[0;34m)\u001b[0m\u001b[0;34m\u001b[0m\u001b[0;34m\u001b[0m\u001b[0m\n\u001b[0m",
            "\u001b[0;32m/tmp/ipython-input-3768410320.py\u001b[0m in \u001b[0;36mremove_from_cart\u001b[0;34m()\u001b[0m\n\u001b[1;32m      3\u001b[0m     \u001b[0mprint\u001b[0m\u001b[0;34m(\u001b[0m\u001b[0;34m\"Cart is empty.\"\u001b[0m\u001b[0;34m)\u001b[0m\u001b[0;34m\u001b[0m\u001b[0;34m\u001b[0m\u001b[0m\n\u001b[1;32m      4\u001b[0m     \u001b[0;32mreturn\u001b[0m\u001b[0;34m\u001b[0m\u001b[0;34m\u001b[0m\u001b[0m\n\u001b[0;32m----> 5\u001b[0;31m   \u001b[0mshow_cart\u001b[0m\u001b[0;34m(\u001b[0m\u001b[0;34m)\u001b[0m\u001b[0;34m\u001b[0m\u001b[0;34m\u001b[0m\u001b[0m\n\u001b[0m\u001b[1;32m      6\u001b[0m   \u001b[0mchoice\u001b[0m\u001b[0;34m=\u001b[0m\u001b[0mint\u001b[0m\u001b[0;34m(\u001b[0m\u001b[0minput\u001b[0m\u001b[0;34m(\u001b[0m\u001b[0;34m\"Enter the product number to remove from cart: \"\u001b[0m\u001b[0;34m)\u001b[0m\u001b[0;34m)\u001b[0m\u001b[0;34m\u001b[0m\u001b[0;34m\u001b[0m\u001b[0m\n\u001b[1;32m      7\u001b[0m   \u001b[0;32mif\u001b[0m \u001b[0;36m0\u001b[0m\u001b[0;34m<=\u001b[0m\u001b[0mchoice\u001b[0m\u001b[0;34m<\u001b[0m\u001b[0mlen\u001b[0m\u001b[0;34m(\u001b[0m\u001b[0mcart\u001b[0m\u001b[0;34m)\u001b[0m\u001b[0;34m:\u001b[0m\u001b[0;34m\u001b[0m\u001b[0;34m\u001b[0m\u001b[0m\n",
            "\u001b[0;31mNameError\u001b[0m: name 'show_cart' is not defined"
          ]
        }
      ]
    }
  ]
}