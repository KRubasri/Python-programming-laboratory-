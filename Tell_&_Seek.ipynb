{
  "nbformat": 4,
  "nbformat_minor": 0,
  "metadata": {
    "colab": {
      "provenance": [],
      "authorship_tag": "ABX9TyPUOJ9kXAdn4HfCW7tncKxK",
      "include_colab_link": true
    },
    "kernelspec": {
      "name": "python3",
      "display_name": "Python 3"
    },
    "language_info": {
      "name": "python"
    }
  },
  "cells": [
    {
      "cell_type": "markdown",
      "metadata": {
        "id": "view-in-github",
        "colab_type": "text"
      },
      "source": [
        "<a href=\"https://colab.research.google.com/github/KRubasri/Python-programming-laboratory-/blob/main/Tell_%26_Seek.ipynb\" target=\"_parent\"><img src=\"https://colab.research.google.com/assets/colab-badge.svg\" alt=\"Open In Colab\"/></a>"
      ]
    },
    {
      "cell_type": "markdown",
      "source": [
        "#File Pointer"
      ],
      "metadata": {
        "id": "4ZGywxks9Yi7"
      }
    },
    {
      "cell_type": "markdown",
      "source": [
        "# Tell Operation"
      ],
      "metadata": {
        "id": "-63Oya3B9cWa"
      }
    },
    {
      "cell_type": "code",
      "execution_count": 1,
      "metadata": {
        "colab": {
          "base_uri": "https://localhost:8080/"
        },
        "id": "oQItvBYR9LN9",
        "outputId": "3f556033-0143-4bec-b267-31dbdc319634"
      },
      "outputs": [
        {
          "output_type": "stream",
          "name": "stdout",
          "text": [
            "0\n",
            "Hello \n",
            "6\n"
          ]
        }
      ],
      "source": [
        "with open(\"/content/Hello World!.txt\",\"r\") as f:\n",
        "  print(f.tell())\n",
        "  data = f.read(6)\n",
        "  print(data)\n",
        "  print(f.tell())"
      ]
    },
    {
      "cell_type": "markdown",
      "source": [
        "# Seek Operation"
      ],
      "metadata": {
        "id": "BOGD65_f9fYh"
      }
    },
    {
      "cell_type": "code",
      "source": [
        "with  open (\"/content/Hello World!.txt\",\"r\") as f:\n",
        "  print(f.seek(0))\n",
        "  data=f.read(4)\n",
        "  print(data)\n",
        "  print(f.seek(0))"
      ],
      "metadata": {
        "colab": {
          "base_uri": "https://localhost:8080/"
        },
        "id": "wb_2NDIt9hua",
        "outputId": "93434de6-c45e-47ed-b76a-0c659cbbf9a2"
      },
      "execution_count": 8,
      "outputs": [
        {
          "output_type": "stream",
          "name": "stdout",
          "text": [
            "0\n",
            "Hell\n",
            "0\n"
          ]
        }
      ]
    },
    {
      "cell_type": "code",
      "source": [
        "with  open (\"/content/Hello World!.txt\",\"r\") as f:\n",
        "  print(f.read())\n",
        "  f.seek(0)\n",
        "  data=f.read(6)\n",
        "  print(data)\n",
        "  print(f.tell())"
      ],
      "metadata": {
        "colab": {
          "base_uri": "https://localhost:8080/"
        },
        "id": "AwJzjNjo-foC",
        "outputId": "a1ddb6be-1d47-4f03-e008-08261b86d4ca"
      },
      "execution_count": 10,
      "outputs": [
        {
          "output_type": "stream",
          "name": "stdout",
          "text": [
            "Hello World! \n",
            "I am currently learning Python.\n",
            "Learning python is fun.\n",
            "Hello \n",
            "6\n"
          ]
        }
      ]
    },
    {
      "cell_type": "markdown",
      "source": [
        "# TRUE & FALSE"
      ],
      "metadata": {
        "id": "9PosZlRw_Zkj"
      }
    },
    {
      "cell_type": "code",
      "source": [
        "with open(\"/content/Hello World!.txt\",\"w\") as f:\n",
        "  print(f.readable())\n",
        "  print(f.writable())\n",
        "  print(f.seekable())\n",
        ""
      ],
      "metadata": {
        "colab": {
          "base_uri": "https://localhost:8080/"
        },
        "id": "QYadfj49-xZa",
        "outputId": "8149600d-7604-49a4-843d-0beae7a5cd4a"
      },
      "execution_count": 11,
      "outputs": [
        {
          "output_type": "stream",
          "name": "stdout",
          "text": [
            "False\n",
            "True\n",
            "True\n"
          ]
        }
      ]
    },
    {
      "cell_type": "markdown",
      "source": [
        "# Renaming the File"
      ],
      "metadata": {
        "id": "H3me0uoWBc7Y"
      }
    },
    {
      "cell_type": "code",
      "source": [
        "import os\n",
        "with open(\"/content/Hello World!.txt\", \"w\") as f:\n",
        "  f.write(\"This is a test file.\")\n",
        "  os.rename(\"/content/Hello World!.txt\", \"/content/New File.txt\")\n",
        "  print(\"File renamed successfully.\")\n",
        "  os.remove(\"/content/New File.txt\")\n",
        "  print(\"File deleted successfully.\")"
      ],
      "metadata": {
        "colab": {
          "base_uri": "https://localhost:8080/"
        },
        "id": "9LBxcOcZBghy",
        "outputId": "dff37af8-fbc9-49d0-c7b8-02e1a7401e36"
      },
      "execution_count": 13,
      "outputs": [
        {
          "output_type": "stream",
          "name": "stdout",
          "text": [
            "File renamed successfully.\n",
            "File deleted successfully.\n"
          ]
        }
      ]
    },
    {
      "cell_type": "markdown",
      "source": [
        "# Creating a folder"
      ],
      "metadata": {
        "id": "NnojU3ltCykJ"
      }
    },
    {
      "cell_type": "code",
      "source": [
        "import os\n",
        "os.mkdir(\"new_folder\")\n",
        "print(\"New folder created successfully.\")\n",
        "\n",
        "print(os.listdir(\".\"))\n",
        "\n",
        "os.rmdir(\"new_folder\")\n",
        "print(\"folder removed successfully\")"
      ],
      "metadata": {
        "colab": {
          "base_uri": "https://localhost:8080/"
        },
        "id": "gIU1-xErJDcS",
        "outputId": "d53cfeed-2923-4e24-b474-1298ff587d48"
      },
      "execution_count": 14,
      "outputs": [
        {
          "output_type": "stream",
          "name": "stdout",
          "text": [
            "New folder created successfully.\n",
            "['.config', 'new_folder', 'sample_data']\n",
            "folder removed successfully\n"
          ]
        }
      ]
    }
  ]
}