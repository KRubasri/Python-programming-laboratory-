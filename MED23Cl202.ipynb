{
  "nbformat": 4,
  "nbformat_minor": 0,
  "metadata": {
    "colab": {
      "provenance": [],
      "include_colab_link": true
    },
    "kernelspec": {
      "name": "python3",
      "display_name": "Python 3"
    },
    "language_info": {
      "name": "python"
    }
  },
  "cells": [
    {
      "cell_type": "markdown",
      "metadata": {
        "id": "view-in-github",
        "colab_type": "text"
      },
      "source": [
        "<a href=\"https://colab.research.google.com/github/KRubasri/Python-programming-laboratory-/blob/main/MED23Cl202.ipynb\" target=\"_parent\"><img src=\"https://colab.research.google.com/assets/colab-badge.svg\" alt=\"Open In Colab\"/></a>"
      ]
    },
    {
      "cell_type": "code",
      "execution_count": null,
      "metadata": {
        "colab": {
          "base_uri": "https://localhost:8080/",
          "height": 193
        },
        "collapsed": true,
        "id": "7msS31kfNH-T",
        "outputId": "563d5406-115f-47af-c324-be8417685c2b"
      },
      "outputs": [
        {
          "output_type": "error",
          "ename": "FileNotFoundError",
          "evalue": "[Errno 2] No such file or directory: 'content/sample/data'",
          "traceback": [
            "\u001b[0;31m---------------------------------------------------------------------------\u001b[0m",
            "\u001b[0;31mFileNotFoundError\u001b[0m                         Traceback (most recent call last)",
            "\u001b[0;32m/tmp/ipython-input-5715661.py\u001b[0m in \u001b[0;36m<cell line: 0>\u001b[0;34m()\u001b[0m\n\u001b[1;32m      1\u001b[0m \u001b[0;32mimport\u001b[0m \u001b[0mos\u001b[0m \u001b[0;31m# importing operating system packages\u001b[0m\u001b[0;34m\u001b[0m\u001b[0;34m\u001b[0m\u001b[0m\n\u001b[1;32m      2\u001b[0m \u001b[0mos\u001b[0m\u001b[0;34m.\u001b[0m\u001b[0mgetcwd\u001b[0m\u001b[0;34m(\u001b[0m\u001b[0;34m)\u001b[0m\u001b[0;34m\u001b[0m\u001b[0;34m\u001b[0m\u001b[0m\n\u001b[0;32m----> 3\u001b[0;31m \u001b[0mos\u001b[0m\u001b[0;34m.\u001b[0m\u001b[0mchdir\u001b[0m\u001b[0;34m(\u001b[0m\u001b[0;34m'content/sample/data'\u001b[0m\u001b[0;34m)\u001b[0m\u001b[0;34m\u001b[0m\u001b[0;34m\u001b[0m\u001b[0m\n\u001b[0m\u001b[1;32m      4\u001b[0m \u001b[0;34m\u001b[0m\u001b[0m\n",
            "\u001b[0;31mFileNotFoundError\u001b[0m: [Errno 2] No such file or directory: 'content/sample/data'"
          ]
        }
      ],
      "source": [
        "import os # importing operating system packages\n",
        "os.getcwd()\n",
        "os.chdir('content/sample/data')\n",
        "\n"
      ]
    },
    {
      "cell_type": "markdown",
      "source": [
        "###Variable and datatype"
      ],
      "metadata": {
        "id": "fd_3WkrlRgIL"
      }
    },
    {
      "cell_type": "code",
      "source": [
        "x=5\n",
        "y=7\n",
        "z=y-x\n",
        "z\n",
        "print(z*3)\n",
        "print(x*4)\n"
      ],
      "metadata": {
        "colab": {
          "base_uri": "https://localhost:8080/"
        },
        "id": "m1VdeWl5Rw1t",
        "outputId": "136d555c-377e-4d1f-e7d5-d6b3de934b0a"
      },
      "execution_count": null,
      "outputs": [
        {
          "output_type": "stream",
          "name": "stdout",
          "text": [
            "6\n",
            "20\n"
          ]
        }
      ]
    },
    {
      "cell_type": "markdown",
      "source": [
        "**List**"
      ],
      "metadata": {
        "id": "YdX8OrwQWY6i"
      }
    },
    {
      "cell_type": "code",
      "source": [
        "a = 'is'\n",
        "b = 'nice'\n",
        "my_list = ['my','list', a, b]\n",
        "my_list2 = [[4,5,6,7], [3,4,5,6]]\n",
        "my_list[0][:1]"
      ],
      "metadata": {
        "colab": {
          "base_uri": "https://localhost:8080/",
          "height": 35
        },
        "id": "poRARayDWijm",
        "outputId": "61cda5e2-fce7-4b1e-99a8-28c496c3ed9e"
      },
      "execution_count": null,
      "outputs": [
        {
          "output_type": "execute_result",
          "data": {
            "text/plain": [
              "'m'"
            ],
            "application/vnd.google.colaboratory.intrinsic+json": {
              "type": "string"
            }
          },
          "metadata": {},
          "execution_count": 38
        }
      ]
    },
    {
      "cell_type": "markdown",
      "source": [
        "####List operations"
      ],
      "metadata": {
        "id": "oPphz5MBZf4M"
      }
    },
    {
      "cell_type": "code",
      "source": [
        "x=[1,2,3]\n",
        "y=[4,5,6]\n",
        "z=[x,y]\n",
        "print(z)\n",
        "u=x+y\n",
        "print(u)"
      ],
      "metadata": {
        "colab": {
          "base_uri": "https://localhost:8080/"
        },
        "id": "Zg_IEpSwZ-ps",
        "outputId": "3bebe890-51ee-4e94-81df-5d5d031dd774"
      },
      "execution_count": null,
      "outputs": [
        {
          "output_type": "stream",
          "name": "stdout",
          "text": [
            "[[1, 2, 3], [4, 5, 6]]\n",
            "[1, 2, 3, 4, 5, 6]\n"
          ]
        }
      ]
    },
    {
      "cell_type": "code",
      "source": [],
      "metadata": {
        "id": "DU6z3K_ObAQW"
      },
      "execution_count": null,
      "outputs": []
    },
    {
      "cell_type": "code",
      "source": [
        "print(x)\n",
        "x[0]"
      ],
      "metadata": {
        "colab": {
          "base_uri": "https://localhost:8080/"
        },
        "id": "DRo5ikPgaCe_",
        "outputId": "45b53863-c097-4143-d495-616c63067a9d"
      },
      "execution_count": null,
      "outputs": [
        {
          "output_type": "stream",
          "name": "stdout",
          "text": [
            "[1, 2, 3]\n"
          ]
        },
        {
          "output_type": "execute_result",
          "data": {
            "text/plain": [
              "1"
            ]
          },
          "metadata": {},
          "execution_count": 40
        }
      ]
    },
    {
      "cell_type": "code",
      "source": [
        "x[-1]"
      ],
      "metadata": {
        "colab": {
          "base_uri": "https://localhost:8080/"
        },
        "id": "HSksF7ucbCBv",
        "outputId": "09501d19-88ea-4614-b589-271b58708e8d"
      },
      "execution_count": null,
      "outputs": [
        {
          "output_type": "execute_result",
          "data": {
            "text/plain": [
              "3"
            ]
          },
          "metadata": {},
          "execution_count": 41
        }
      ]
    },
    {
      "cell_type": "code",
      "source": [
        "x[1:2]"
      ],
      "metadata": {
        "colab": {
          "base_uri": "https://localhost:8080/"
        },
        "id": "CYRsf487boUq",
        "outputId": "968c6572-a5e9-412a-f7f5-1b7b309cadbc"
      },
      "execution_count": null,
      "outputs": [
        {
          "output_type": "execute_result",
          "data": {
            "text/plain": [
              "[2]"
            ]
          },
          "metadata": {},
          "execution_count": 42
        }
      ]
    },
    {
      "cell_type": "code",
      "source": [
        "#select 2nd to the end of x1 = ['a','b',]"
      ],
      "metadata": {
        "id": "-M2SmQJgcLjD"
      },
      "execution_count": null,
      "outputs": []
    },
    {
      "cell_type": "code",
      "source": [
        "y=[10,20,30]\n",
        "y+y"
      ],
      "metadata": {
        "colab": {
          "base_uri": "https://localhost:8080/"
        },
        "id": "IKlN7EtHdn6B",
        "outputId": "4fab1bab-1eda-4e59-ab57-d2a6c83ffa2b"
      },
      "execution_count": null,
      "outputs": [
        {
          "output_type": "execute_result",
          "data": {
            "text/plain": [
              "[10, 20, 30, 10, 20, 30]"
            ]
          },
          "metadata": {},
          "execution_count": 44
        }
      ]
    },
    {
      "cell_type": "code",
      "source": [
        "y*3"
      ],
      "metadata": {
        "colab": {
          "base_uri": "https://localhost:8080/"
        },
        "id": "PHrK0p_Td0X7",
        "outputId": "38c0f9ec-3289-4877-e1fc-9b4b5fce6b81"
      },
      "execution_count": null,
      "outputs": [
        {
          "output_type": "execute_result",
          "data": {
            "text/plain": [
              "[10, 20, 30, 10, 20, 30, 10, 20, 30]"
            ]
          },
          "metadata": {},
          "execution_count": 45
        }
      ]
    },
    {
      "cell_type": "code",
      "source": [
        "#assignment\n",
        "a=5\n",
        "x[0]=1\n",
        "print(x[0])"
      ],
      "metadata": {
        "colab": {
          "base_uri": "https://localhost:8080/"
        },
        "id": "byUu9l8mdfn_",
        "outputId": "50aa6bdd-44f1-463c-f174-7a944f3927ff"
      },
      "execution_count": null,
      "outputs": [
        {
          "output_type": "stream",
          "name": "stdout",
          "text": [
            "1\n"
          ]
        }
      ]
    },
    {
      "cell_type": "markdown",
      "source": [
        "**assignment**"
      ],
      "metadata": {
        "id": "mA23wV8lePvt"
      }
    },
    {
      "cell_type": "code",
      "source": [
        "a=5\n",
        "print(a)\n",
        "x=[10,23,45]\n",
        "x[0]=1\n",
        "print(x[0])\n"
      ],
      "metadata": {
        "colab": {
          "base_uri": "https://localhost:8080/"
        },
        "id": "6uoUR-_neTq2",
        "outputId": "a14ad1db-458c-4728-a20f-c58d95d248e6"
      },
      "execution_count": null,
      "outputs": [
        {
          "output_type": "stream",
          "name": "stdout",
          "text": [
            "5\n",
            "1\n"
          ]
        }
      ]
    },
    {
      "cell_type": "code",
      "source": [
        "#Relational operators in python\n",
        "3 == 3\n",
        "3 != 3\n",
        "3 > 1\n",
        "3 >= 1\n",
        "3 < 1\n",
        "3 <= 1"
      ],
      "metadata": {
        "colab": {
          "base_uri": "https://localhost:8080/"
        },
        "id": "7oIPQ4nbdcIe",
        "outputId": "23476cca-75d3-4236-c07d-dd5d09614a08"
      },
      "execution_count": null,
      "outputs": [
        {
          "output_type": "execute_result",
          "data": {
            "text/plain": [
              "False"
            ]
          },
          "metadata": {},
          "execution_count": 48
        }
      ]
    },
    {
      "cell_type": "markdown",
      "source": [
        "**Logical operations**"
      ],
      "metadata": {
        "id": "3ayaUa_Yi9TH"
      }
    },
    {
      "cell_type": "code",
      "source": [
        "(2==2)#not gate\n",
        "(2!=2)#and gate\n",
        "(2<=2)#or gate"
      ],
      "metadata": {
        "id": "NLmVIYhXjBIr",
        "colab": {
          "base_uri": "https://localhost:8080/"
        },
        "outputId": "8ca6e496-b7bd-4f5b-c2fa-367ed57dccc7"
      },
      "execution_count": null,
      "outputs": [
        {
          "output_type": "execute_result",
          "data": {
            "text/plain": [
              "True"
            ]
          },
          "metadata": {},
          "execution_count": 49
        }
      ]
    },
    {
      "cell_type": "markdown",
      "source": [
        "**Python inbuilt data structures 1.List 2.Tuple 3.dictionary 4.set**\n"
      ],
      "metadata": {
        "id": "6-rHeJKojj9x"
      }
    },
    {
      "cell_type": "code",
      "source": [
        "my_dict = {\"name\":\"Alice\",\"age\" : \"23\"}\n",
        "my_dict\n"
      ],
      "metadata": {
        "colab": {
          "base_uri": "https://localhost:8080/"
        },
        "id": "rAyhMKAHj1Dv",
        "outputId": "30fc4d1d-6610-41cf-f541-2e4585257326"
      },
      "execution_count": null,
      "outputs": [
        {
          "output_type": "execute_result",
          "data": {
            "text/plain": [
              "{'name': 'Alice', 'age': '23'}"
            ]
          },
          "metadata": {},
          "execution_count": 50
        }
      ]
    },
    {
      "cell_type": "markdown",
      "source": [
        "**List Operations**"
      ],
      "metadata": {
        "id": "YiroRTY6xw-j"
      }
    },
    {
      "cell_type": "code",
      "source": [],
      "metadata": {
        "id": "NPbzMBp6x5C1"
      },
      "execution_count": null,
      "outputs": []
    },
    {
      "cell_type": "code",
      "source": [
        "my_list = ['a','e','i','o','u']\n",
        "print(my_list.index('a'))\n",
        "print(my_list.count('o'))\n",
        "print(my_list.append('!'))"
      ],
      "metadata": {
        "colab": {
          "base_uri": "https://localhost:8080/"
        },
        "id": "uy8qU8rhoegc",
        "outputId": "90b6501b-e0ae-43db-e881-d1efeb89d974"
      },
      "execution_count": null,
      "outputs": [
        {
          "output_type": "stream",
          "name": "stdout",
          "text": [
            "0\n",
            "1\n",
            "None\n"
          ]
        }
      ]
    },
    {
      "cell_type": "code",
      "source": [
        "my_list.append('!')\n",
        "my_list"
      ],
      "metadata": {
        "colab": {
          "base_uri": "https://localhost:8080/"
        },
        "id": "XpRyCTScph3A",
        "outputId": "96d39117-449e-492f-de70-7387f07ce7a9"
      },
      "execution_count": null,
      "outputs": [
        {
          "output_type": "execute_result",
          "data": {
            "text/plain": [
              "['a', 'e', 'i', 'o', 'u', '!', '!']"
            ]
          },
          "metadata": {},
          "execution_count": 52
        }
      ]
    },
    {
      "cell_type": "code",
      "source": [
        "my_list.remove('!')\n",
        "my_list"
      ],
      "metadata": {
        "colab": {
          "base_uri": "https://localhost:8080/"
        },
        "id": "2B0bzaMKpvAO",
        "outputId": "5dbd1b88-f92c-4e80-f378-cb358dba8c76"
      },
      "execution_count": null,
      "outputs": [
        {
          "output_type": "execute_result",
          "data": {
            "text/plain": [
              "['a', 'e', 'i', 'o', 'u', '!']"
            ]
          },
          "metadata": {},
          "execution_count": 53
        }
      ]
    },
    {
      "cell_type": "code",
      "source": [
        "del(my_list[0:2])\n",
        "my_list"
      ],
      "metadata": {
        "colab": {
          "base_uri": "https://localhost:8080/"
        },
        "id": "UgmmQF2nsAtX",
        "outputId": "32bf0692-6b90-4194-dba2-e89a6d1e0731"
      },
      "execution_count": null,
      "outputs": [
        {
          "output_type": "execute_result",
          "data": {
            "text/plain": [
              "['i', 'o', 'u', '!']"
            ]
          },
          "metadata": {},
          "execution_count": 54
        }
      ]
    },
    {
      "cell_type": "code",
      "source": [
        "my_list.reverse()\n",
        "my_list"
      ],
      "metadata": {
        "colab": {
          "base_uri": "https://localhost:8080/"
        },
        "id": "eaXM40nLsU-b",
        "outputId": "f530e981-4989-4d5c-93f1-1a4fee6032ab"
      },
      "execution_count": null,
      "outputs": [
        {
          "output_type": "execute_result",
          "data": {
            "text/plain": [
              "['!', 'u', 'o', 'i']"
            ]
          },
          "metadata": {},
          "execution_count": 55
        }
      ]
    },
    {
      "cell_type": "code",
      "source": [
        "my_list.extend('!')\n",
        "my_list"
      ],
      "metadata": {
        "colab": {
          "base_uri": "https://localhost:8080/"
        },
        "id": "9ce33Y1Vsinq",
        "outputId": "bfe210ea-2ef9-4a98-e78f-bedda3d612bc"
      },
      "execution_count": null,
      "outputs": [
        {
          "output_type": "execute_result",
          "data": {
            "text/plain": [
              "['!', 'u', 'o', 'i', '!']"
            ]
          },
          "metadata": {},
          "execution_count": 56
        }
      ]
    },
    {
      "cell_type": "markdown",
      "source": [
        "**String Operations**"
      ],
      "metadata": {
        "id": "yvEwArbPxfFl"
      }
    },
    {
      "cell_type": "code",
      "source": [
        "my_string = \"Welocme to python programming\"\n",
        "my_string"
      ],
      "metadata": {
        "colab": {
          "base_uri": "https://localhost:8080/",
          "height": 35
        },
        "id": "eoHtSteLvej4",
        "outputId": "cfe88714-69d2-4bf6-d133-baa34c9e1b02"
      },
      "execution_count": null,
      "outputs": [
        {
          "output_type": "execute_result",
          "data": {
            "text/plain": [
              "'Welocme to python programming'"
            ],
            "application/vnd.google.colaboratory.intrinsic+json": {
              "type": "string"
            }
          },
          "metadata": {},
          "execution_count": 57
        }
      ]
    },
    {
      "cell_type": "code",
      "source": [
        "my_string.count('o')"
      ],
      "metadata": {
        "colab": {
          "base_uri": "https://localhost:8080/"
        },
        "id": "p5eT9NuvvrtW",
        "outputId": "0dbf5540-e446-4b2e-ec98-e592eebef9a8"
      },
      "execution_count": null,
      "outputs": [
        {
          "output_type": "execute_result",
          "data": {
            "text/plain": [
              "4"
            ]
          },
          "metadata": {},
          "execution_count": 58
        }
      ]
    },
    {
      "cell_type": "code",
      "source": [
        "my_string.replace('e','!')"
      ],
      "metadata": {
        "colab": {
          "base_uri": "https://localhost:8080/",
          "height": 35
        },
        "id": "qbPj8gkmwB5M",
        "outputId": "15ed0b60-8748-407d-dfbf-9ec954faf867"
      },
      "execution_count": null,
      "outputs": [
        {
          "output_type": "execute_result",
          "data": {
            "text/plain": [
              "'W!locm! to python programming'"
            ],
            "application/vnd.google.colaboratory.intrinsic+json": {
              "type": "string"
            }
          },
          "metadata": {},
          "execution_count": 59
        }
      ]
    },
    {
      "cell_type": "code",
      "source": [
        "my_string.strip('g')"
      ],
      "metadata": {
        "colab": {
          "base_uri": "https://localhost:8080/",
          "height": 35
        },
        "id": "kU44O9irwPWg",
        "outputId": "c36e060c-7cb7-4913-8262-1670d64a95fc"
      },
      "execution_count": null,
      "outputs": [
        {
          "output_type": "execute_result",
          "data": {
            "text/plain": [
              "'Welocme to python programmin'"
            ],
            "application/vnd.google.colaboratory.intrinsic+json": {
              "type": "string"
            }
          },
          "metadata": {},
          "execution_count": 60
        }
      ]
    },
    {
      "cell_type": "markdown",
      "source": [],
      "metadata": {
        "id": "QpaUdnROwOjs"
      }
    },
    {
      "cell_type": "markdown",
      "source": [
        "**LIst Operations in Python**"
      ],
      "metadata": {
        "id": "amf72w7ugEAp"
      }
    },
    {
      "cell_type": "markdown",
      "source": [
        "1. Create a empty result list\n",
        "2. Keep a total variable starting at 0\n",
        "3. Loop through each number\n",
        "4. add to total, append total to result"
      ],
      "metadata": {
        "id": "T9CJx8cDgOnQ"
      }
    },
    {
      "cell_type": "code",
      "source": [],
      "metadata": {
        "id": "3f3VvbrUi6w_"
      },
      "execution_count": null,
      "outputs": []
    },
    {
      "cell_type": "code",
      "source": [
        "def runningSum(nums):\n",
        "  result = []\n",
        "  total = 0\n",
        "  for n in nums:\n",
        "     total += n\n",
        "     result.append(total)\n",
        "  return result\n",
        "\n",
        "print(runningSum([10,20,5,1]))"
      ],
      "metadata": {
        "colab": {
          "base_uri": "https://localhost:8080/"
        },
        "id": "lPoL3olegJbO",
        "outputId": "1b2339c9-6c6e-4100-b47f-04dc5b08820d"
      },
      "execution_count": null,
      "outputs": [
        {
          "output_type": "stream",
          "name": "stdout",
          "text": [
            "[10, 30, 35, 36]\n"
          ]
        }
      ]
    },
    {
      "cell_type": "code",
      "source": [
        "def Sum(nums):\n",
        "  result = 0\n",
        "  for n in nums:\n",
        "     result += n\n",
        "  return (result)\n",
        "\n",
        "print(Sum([10,20,5,1]))"
      ],
      "metadata": {
        "colab": {
          "base_uri": "https://localhost:8080/"
        },
        "id": "Dr1q6HWwjUKs",
        "outputId": "a7c5530e-6c82-4803-e5c5-43f2ed94b3c3"
      },
      "execution_count": null,
      "outputs": [
        {
          "output_type": "stream",
          "name": "stdout",
          "text": [
            "36\n"
          ]
        }
      ]
    },
    {
      "cell_type": "code",
      "source": [
        "def CountEven(nums):\n",
        "   count=0\n",
        "   for n in (nums):\n",
        "         if n%2 == 0:\n",
        "          count += 1\n",
        "   return count\n",
        "print(CountEven([10,20,5,1]))"
      ],
      "metadata": {
        "colab": {
          "base_uri": "https://localhost:8080/"
        },
        "id": "CpcRdP2Lk18N",
        "outputId": "b2181737-74cc-4af2-ac80-552703079d7a"
      },
      "execution_count": null,
      "outputs": [
        {
          "output_type": "stream",
          "name": "stdout",
          "text": [
            "2\n"
          ]
        }
      ]
    },
    {
      "cell_type": "code",
      "source": [
        "def reverseList(nums):\n",
        "  return nums[::-1]\n",
        "print(reverseList([10,20,5,1]))\n",
        "\n",
        "my_list = [10,20,5,1]\n",
        "print(my_list[::2])\n",
        "print(my_list[::-3])"
      ],
      "metadata": {
        "colab": {
          "base_uri": "https://localhost:8080/"
        },
        "id": "aZxx6d-MnDQw",
        "outputId": "cf2bd863-57c4-4672-dcb8-b65f3713fcb1"
      },
      "execution_count": null,
      "outputs": [
        {
          "output_type": "stream",
          "name": "stdout",
          "text": [
            "[1, 5, 20, 10]\n",
            "[10, 5]\n",
            "[1, 10]\n"
          ]
        }
      ]
    },
    {
      "cell_type": "code",
      "source": [
        "def findMax(nums):\n",
        "  max_num = nums[0]\n",
        "  for n in nums:\n",
        "   if n > max_num:\n",
        "    max_num = n\n",
        "  return max_num\n",
        "print(findMax([10,20,5,1]))\n"
      ],
      "metadata": {
        "colab": {
          "base_uri": "https://localhost:8080/"
        },
        "id": "CNWj-Tk2qGQp",
        "outputId": "4b403bf4-dc2e-48d9-e38e-f6c34dd53f13"
      },
      "execution_count": null,
      "outputs": [
        {
          "output_type": "stream",
          "name": "stdout",
          "text": [
            "20\n"
          ]
        }
      ]
    },
    {
      "cell_type": "code",
      "source": [
        "def findMax(nums):\n",
        "  max_num = nums[0]\n",
        "  for n in nums:\n",
        "   if n < max_num:\n",
        "    max_num = n\n",
        "  return max_num\n",
        "print(findMax([10,20,5,1]))"
      ],
      "metadata": {
        "colab": {
          "base_uri": "https://localhost:8080/"
        },
        "id": "HhWPNzILrbzm",
        "outputId": "54bfe95e-054e-4161-954f-9b4137d7849b"
      },
      "execution_count": null,
      "outputs": [
        {
          "output_type": "stream",
          "name": "stdout",
          "text": [
            "1\n"
          ]
        }
      ]
    },
    {
      "cell_type": "code",
      "source": [
        "def findMax(nums):\n",
        "  num = nums[0]\n",
        "  for n in nums:\n",
        "   if n > num:\n",
        "    num = n\n",
        "   else :\n",
        "      num = n\n",
        "\n",
        "  return num\n",
        "print(findMax([10,20,5,1]))"
      ],
      "metadata": {
        "colab": {
          "base_uri": "https://localhost:8080/"
        },
        "id": "FryYTqf2sOt2",
        "outputId": "c97931d6-ac55-46af-8e5a-f3b59a06707a"
      },
      "execution_count": null,
      "outputs": [
        {
          "output_type": "stream",
          "name": "stdout",
          "text": [
            "1\n"
          ]
        }
      ]
    },
    {
      "cell_type": "markdown",
      "source": [],
      "metadata": {
        "id": "ZwdSJ7mCgM1K"
      }
    },
    {
      "cell_type": "code",
      "source": [
        "def merge(list_1,list_2):\n",
        "   return sorted(list_1+list_2)\n",
        "print(merge([1,3,5],[2,4,6]))"
      ],
      "metadata": {
        "colab": {
          "base_uri": "https://localhost:8080/"
        },
        "id": "PhKSTmVktvqu",
        "outputId": "ee2ded06-d9df-414a-8cea-076eafcca4c4"
      },
      "execution_count": null,
      "outputs": [
        {
          "output_type": "stream",
          "name": "stdout",
          "text": [
            "[1, 2, 3, 4, 5, 6]\n"
          ]
        }
      ]
    },
    {
      "cell_type": "code",
      "source": [
        "def Sortedsquare(nums):\n",
        "  return sorted([x**2 for x in nums])\n",
        "print(Sortedsquare([-4,-1,0,3,50]))"
      ],
      "metadata": {
        "colab": {
          "base_uri": "https://localhost:8080/"
        },
        "id": "fv5kwkOFujs8",
        "outputId": "7d49f5f6-0c2f-423f-9e9b-837987526a0d"
      },
      "execution_count": null,
      "outputs": [
        {
          "output_type": "stream",
          "name": "stdout",
          "text": [
            "[0, 1, 9, 16, 2500]\n"
          ]
        }
      ]
    },
    {
      "cell_type": "code",
      "source": [
        "def deposit(accounts):\n",
        "  return max(sum (cust)for cust in accounts)\n",
        "print(deposit([[100,52],[60,3]]))"
      ],
      "metadata": {
        "colab": {
          "base_uri": "https://localhost:8080/"
        },
        "id": "Z4eIdDSLx3Ey",
        "outputId": "65e68610-e11c-4798-864b-e94fa0de8ae6"
      },
      "execution_count": null,
      "outputs": [
        {
          "output_type": "stream",
          "name": "stdout",
          "text": [
            "152\n"
          ]
        }
      ]
    },
    {
      "cell_type": "code",
      "source": [
        "def twoSum(nums,target):\n",
        "  seen={}\n",
        "  for i,n in enumerate(nums):\n",
        "    diff = target - n\n",
        "    if diff in seen:\n",
        "     return [seen[diff],i]\n",
        "    seen[n] = i\n",
        "    print(seen)\n",
        "print(twoSum([2,7,11,15],26))\n"
      ],
      "metadata": {
        "colab": {
          "base_uri": "https://localhost:8080/"
        },
        "id": "1W-5xF7dzJg3",
        "outputId": "c69bd82c-5b58-4687-b9f8-c5116c028232"
      },
      "execution_count": null,
      "outputs": [
        {
          "output_type": "stream",
          "name": "stdout",
          "text": [
            "{2: 0}\n",
            "{2: 0, 7: 1}\n",
            "{2: 0, 7: 1, 11: 2}\n",
            "[2, 3]\n"
          ]
        }
      ]
    },
    {
      "cell_type": "code",
      "source": [],
      "metadata": {
        "id": "y_hSbG66hYuf"
      },
      "execution_count": null,
      "outputs": []
    }
  ]
}